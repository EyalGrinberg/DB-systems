{
 "cells": [
  {
   "cell_type": "code",
   "execution_count": 1,
   "metadata": {},
   "outputs": [],
   "source": [
    "## import api functions\n",
    "from get_queries import *"
   ]
  },
  {
   "cell_type": "markdown",
   "metadata": {},
   "source": [
    "# Query #1: Recommend a Movie by Title"
   ]
  },
  {
   "cell_type": "markdown",
   "metadata": {},
   "source": [
    "**Input:** A movie title that the user liked.\n",
    "\n",
    "**Output:** 10 Recommended films based on the user's input. \n",
    "\n",
    "This function recommends based on genre, rate, and runtime. "
   ]
  },
  {
   "cell_type": "code",
   "execution_count": 3,
   "metadata": {},
   "outputs": [
    {
     "name": "stdout",
     "output_type": "stream",
     "text": [
      "Title :  Pirates of the Caribbean: The Curse of the Black Pearl\n",
      "Overview :  Jack Sparrow, a freewheeling 18th-century pirate, quarrels with a rival pirate bent on pillaging Port Royal. When the governor's daughter is kidnapped, Sparrow decides to help the girl's love save her.\n",
      "Rating :  7.797\n",
      "Runtime :  143\n",
      "language :  English\n",
      "release date :  2003-07-09\n",
      "\n",
      "\n",
      "Title :  Pirates of the Caribbean: Dead Man's Chest\n",
      "Overview :  Captain Jack Sparrow works his way out of a blood debt with the ghostly Davy Jones to avoid eternal damnation.\n",
      "Rating :  7.352\n",
      "Runtime :  151\n",
      "language :  English\n",
      "release date :  2006-07-06\n",
      "\n",
      "\n",
      "Title :  2001: A Space Odyssey\n",
      "Overview :  Humanity finds a mysterious object buried beneath the lunar surface and sets off to find its origins with the help of HAL 9000, the world's most advanced super computer.\n",
      "Rating :  8.075\n",
      "Runtime :  149\n",
      "language :  English\n",
      "release date :  1968-04-02\n",
      "\n",
      "\n",
      "Title :  Gladiator\n",
      "Overview :  In the year 180, the death of emperor Marcus Aurelius throws the Roman Empire into chaos.  Maximus is one of the Roman army's most capable and trusted generals and a key advisor to the emperor.  As Marcus' devious son Commodus ascends to the throne, Maximus is set to be executed.  He escapes, but is captured by slave traders.  Renamed Spaniard and forced to become a gladiator, Maximus must battle to the death with other men for the amusement of paying audiences.\n",
      "Rating :  8.215\n",
      "Runtime :  155\n",
      "language :  English\n",
      "release date :  2000-05-04\n",
      "\n",
      "\n",
      "Title :  The Wages of Fear\n",
      "Overview :  In a run-down South American town, four men are paid to drive trucks loaded with nitroglycerin into the jungle through to the oil field. Friendships are tested and rivalries develop as they embark upon the perilous journey.\n",
      "Rating :  8.027\n",
      "Runtime :  148\n",
      "language :  French\n",
      "release date :  1953-04-22\n",
      "\n",
      "\n",
      "Title :  The Chronicles of Narnia: The Lion, the Witch and the Wardrobe\n",
      "Overview :  Siblings Lucy, Edmund, Susan and Peter step through a magical wardrobe and find the land of Narnia. There, they discover a charming, once peaceful kingdom that has been plunged into eternal winter by the evil White Witch, Jadis. Aided by the wise and magnificent lion, Aslan, the children lead Narnia into a spectacular, climactic battle to be free of the Witch's glacial powers forever.\n",
      "Rating :  7.132\n",
      "Runtime :  143\n",
      "language :  English\n",
      "release date :  2005-12-07\n",
      "\n",
      "\n",
      "Title :  The Matrix Reloaded\n",
      "Overview :  Six months after the events depicted in The Matrix, Neo has proved to be a good omen for the free humans, as more and more humans are being freed from the matrix and brought to Zion, the one and only stronghold of the Resistance.  Neo himself has discovered his superpowers including super speed, ability to see the codes of the things inside the matrix and a certain degree of pre-cognition. But a nasty piece of news hits the human resistance: 250,000 machine sentinels are digging to Zion and would reach them in 72 hours. As Zion prepares for the ultimate war, Neo, Morpheus and Trinity are advised by the Oracle to find the Keymaker who would help them reach the Source.  Meanwhile Neo's recurrent dreams depicting Trinity's death have got him worried and as if it was not enough, Agent Smith has somehow escaped deletion, has become more powerful than before and has fixed Neo as his next target.\n",
      "Rating :  7.043\n",
      "Runtime :  138\n",
      "language :  English\n",
      "release date :  2003-05-15\n",
      "\n",
      "\n",
      "Title :  A.I. Artificial Intelligence\n",
      "Overview :  David, a robotic boy—the first of his kind programmed to love—is adopted as a test case by a Cybertronics employee and his wife. Though he gradually becomes their child, a series of unexpected circumstances make this life impossible for David.\n",
      "Rating :  7.043\n",
      "Runtime :  146\n",
      "language :  English\n",
      "release date :  2001-06-29\n",
      "\n",
      "\n",
      "Title :  Troy\n",
      "Overview :  In year 1250 B.C. during the late Bronze age, two emerging nations begin to clash. Paris, the Trojan prince, convinces Helen, Queen of Sparta, to leave her husband Menelaus, and sail with him back to Troy. After Menelaus finds out that his wife was taken by the Trojans, he asks his brother Agamemnon to help him get her back. Agamemnon sees this as an opportunity for power. They set off with 1,000 ships holding 50,000 Greeks to Troy.\n",
      "Rating :  7.156\n",
      "Runtime :  163\n",
      "language :  English\n",
      "release date :  2004-05-13\n",
      "\n",
      "\n",
      "Title :  Harry Potter and the Chamber of Secrets\n",
      "Overview :  Cars fly, trees fight back, and a mysterious house-elf comes to warn Harry Potter at the start of his second year at Hogwarts. Adventure and danger await when bloody writing on a wall announces: The Chamber Of Secrets Has Been Opened. To save Hogwarts will require all of Harry, Ron and Hermione’s magical abilities and courage.\n",
      "Rating :  7.72\n",
      "Runtime :  161\n",
      "language :  English\n",
      "release date :  2002-11-13\n",
      "\n",
      "\n"
     ]
    }
   ],
   "source": [
    "movies = pick_by_movie(\"harry potter\")\n",
    "print_result (movies)"
   ]
  },
  {
   "cell_type": "markdown",
   "metadata": {},
   "source": [
    "# Query #2: Recommend a Movie by Actor"
   ]
  },
  {
   "cell_type": "markdown",
   "metadata": {},
   "source": [
    "**Input:** Name of an actor that the user likes\n",
    "\n",
    "**Output:** All films by the actor on the user's input. "
   ]
  },
  {
   "cell_type": "code",
   "execution_count": 3,
   "metadata": {},
   "outputs": [
    {
     "name": "stdout",
     "output_type": "stream",
     "text": [
      "('The Fifth Element', 'In 2257, a taxi driver is unintentionally given the task of saving a young girl who is part of the key that will ensure the survival of humanity.') \n",
      "\n",
      "('Twelve Monkeys', \"In the year 2035, convict James Cole reluctantly volunteers to be sent back in time to discover the origin of a deadly virus that wiped out nearly all of the earth's population and forced the survivors into underground communities. But when Cole is mistakenly sent to 1990 instead of 1996, he's arrested and locked up in a mental hospital. There he meets psychiatrist Dr. Kathryn Railly, and patient Jeffrey Goines, the son of a famous virus expert, who may hold the key to the mysterious rogue group, the Army of the 12 Monkeys, thought to be responsible for unleashing the killer disease.\") \n",
      "\n",
      "('Armageddon', \"When an asteroid threatens to collide with Earth, NASA honcho Dan Truman determines the only way to stop it is to drill into its surface and detonate a nuclear bomb. This leads him to renowned driller Harry Stamper, who agrees to helm the dangerous space mission provided he can bring along his own hotshot crew. Among them is the cocksure A.J. who Harry thinks isn't good enough for his daughter, until the mission proves otherwise.\") \n",
      "\n",
      "('Sin City', 'Welcome to Sin City. This town beckons to the tough, the corrupt, the brokenhearted. Some call it dark… Hard-boiled. Then there are those who call it home — Crooked cops, sexy dames, desperate vigilantes. Some are seeking revenge, others lust after redemption, and then there are those hoping for a little of both. A universe of unlikely and reluctant heroes still trying to do the right thing in a city that refuses to care.') \n",
      "\n",
      "('Die Hard', \"NYPD cop John McClane's plan to reconcile with his estranged wife is thrown for a serious loop when, minutes after he arrives at her office, the entire building is overtaken by a group of terrorists. With little help from the LAPD, wisecracking McClane sets out to single-handedly rescue the hostages and bring the bad guys down.\") \n",
      "\n",
      "('The Sixth Sense', 'Following an unexpected tragedy, child psychologist Malcolm Crowe meets a nine year old boy named Cole Sear, who is hiding a dark secret.') \n",
      "\n",
      "('Live Free or Die Hard', \"John McClane is back and badder than ever, and this time he's working for Homeland Security. He calls on the services of a young hacker in his bid to stop a ring of Internet terrorists intent on taking control of America's computer infrastructure.\") \n",
      "\n",
      "('Die Hard: With a Vengeance', 'New York detective John McClane is back and kicking bad-guy butt in the third installment of this action-packed series, which finds him teaming with civilian Zeus Carver to prevent the loss of innocent lives. McClane thought he\\'d seen it all, until a genius named Simon engages McClane, his new \"partner\" -- and his beloved city -- in a deadly game that demands their concentration.') \n",
      "\n",
      "('Die Hard 2', 'Off-duty cop John McClane is gripped with a feeling of déjà vu when, on a snowy Christmas Eve in the nation’s capital, terrorists seize a major international airport, holding thousands of holiday travelers hostage. Renegade military commandos led by a murderous rogue officer plot to rescue a drug lord from justice and are prepared for every contingency except one: McClane’s smart-mouthed heroics.') \n",
      "\n",
      "('Hostage', 'When a mafia accountant is taken hostage on his beat, a police officer – wracked by guilt from a prior stint as a negotiator – must negotiate the standoff, even as his own family is held captive by the mob.') \n",
      "\n",
      "('The Whole Ten Yards', 'Jimmy \"The Tulip\" Tudeski now spends his days compulsively cleaning his house and perfecting his culinary skills with his wife, Jill, a purported assassin who has yet to pull off a clean hit. Suddenly, an uninvited and unwelcome connection to their past unexpectedly shows up on Jimmy and Jill\\'s doorstep; it\\'s Oz, and he\\'s begging them to help him rescue his wife, Cynthia.') \n",
      "\n",
      "('Color of Night', \"A color-blind psychiatrist is stalked by an unknown killer after taking over his murdered friend's therapy group and becomes embroiled in an intense affair with a mysterious woman who may be connected to the crime.\") \n",
      "\n",
      "('16 Blocks', 'An aging cop is assigned the ordinary task of escorting a fast-talking witness from police custody to a courthouse, but they find themselves running the gauntlet as other forces try to prevent them from getting there.') \n",
      "\n",
      "('Bandits', 'After escaping from prison, Joe and Terry go on a crime spree, robbing banks through Oregon and California in order to finance their scheme for a new life south of the border. Unfortunately, things get more complicated when they meet Kate, who runs into them with her car. She joins the bandits on their cross-country spree, and eventually she steals something, too: their hearts.') \n",
      "\n",
      "('The Kid', \"Powerful businessman Russ Duritz is self-absorbed and immersed in his work. But by the magic of the moon, he meets Rusty, a chubby, charming 8-year-old version of himself who can't believe he could turn out so badly – with no life and no dog. With Rusty's help, Russ is able to reconcile the person he used to dream of being with the man he's actually become.\") \n",
      "\n",
      "('The Jackal', 'Hired by a powerful member of the Russian mafia to avenge an FBI sting that left his brother dead, a psychopathic hitman known only as The Jackal proves an elusive target for the people charged with the task of bringing him down: a deputy FBI director, a Russian MVK Major,  and a jailed IRA terrorist who can recognize him.') \n",
      "\n",
      "('Over the Hedge', 'A scheming raccoon fools a mismatched family of forest creatures into helping him repay a debt of food, by invading the new suburban sprawl that popped up while they were hibernating – and learns a lesson about family himself.') \n",
      "\n",
      "('Mercury Rising', 'Renegade FBI agent Art Jeffries protects a nine-year-old autistic boy who has cracked the government\\'s new \"unbreakable\" code.') \n",
      "\n",
      "('Hudson Hawk', 'Eddie Hawkins, called Hudson Hawk has just been released from ten years of prison and is planning to spend the rest of his life honestly. But then the crazy Mayflower couple blackmail him to steal some of the works of Leonardo da Vinci. If he refuses, they threaten to kill his friend Tommy.') \n",
      "\n",
      "('The Last Boy Scout', 'When the girl that detective Joe Hallenback is protecting gets murdered, the boyfriend of the murdered girl attempts to investigate and solve the case. What they discover is that there is deep seated corruption going on between a crooked politician and the owner of a pro football team.') \n",
      "\n",
      "('Last Man Standing', 'John Smith is a mysterious stranger who is drawn into a vicious war between two Prohibition-era gangs. In a dangerous game, he switches allegiances from one to another, offering his services to the highest bidder. As the death toll mounts, Smith takes the law into his own hands in a deadly race to stay alive.') \n",
      "\n",
      "('Tears of the Sun', 'Navy SEAL Lieutenant A.K. Waters and his elite squadron of tactical specialists are forced to choose between their duty and their humanity, between following orders by ignoring the conflict that surrounds them, or finding the courage to follow their conscience and protect a group of innocent refugees. When the democratic government of Nigeria collapses and the country is taken over by a ruthless military dictator, Waters, a fiercely loyal and hardened veteran is dispatched on a routine mission to retrieve a Doctors Without Borders physician.') \n",
      "\n",
      "('Unbreakable', 'An ordinary man makes an extraordinary discovery when a train accident leaves his fellow passengers dead — and him unscathed. The answer to this mystery could lie with the mysterious Elijah Price, a man who suffers from a disease that renders his bones as fragile as glass.') \n",
      "\n",
      "('Sin City: A Dame to Kill For', \"Some of Sin City's most hard-boiled citizens cross paths with a few of its more reviled inhabitants.\") \n",
      "\n",
      "('Blind Date', \"When bachelor Walter Davis is set up with his sister-in-law's pretty cousin, Nadia Gates, a seemingly average blind date turns into a chaotic night on the town. Walter's brother, Ted, tells him not to let Nadia drink alcohol, but he dismisses the warning and her behaviour gets increasingly wild. Walter and Nadia's numerous incidents are made even worse as her former lover David relentlessly follows them around town.\") \n",
      "\n",
      "('The Whole Nine Yards', \"After a mobster agrees to cooperate with an FBI investigation in order to stay out of prison, he's relocated by the authorities to a life of suburban anonymity as part of a witness protection program. It's not long before a couple of his new neighbours figure out his true identity and come knocking to see if he'd be up for one more hit—suburban style.\") \n",
      "\n",
      "('Beavis and Butt-Head Do America', \"Slacker duo Beavis and Butt-Head wake to discover their TV has been stolen. Their search for a new one takes them on a clueless adventure across America, during which they manage to accidentally become America's most wanted.\") \n",
      "\n",
      "('Perfect Stranger', \"A journalist goes undercover to ferret out businessman Harrison Hill as her best friend's killer. Posing as one of his temps, she enters into a game of online cat-and-mouse.\") \n",
      "\n",
      "('Alpha Dog', \"Johnny Truelove likes to see himself as tough. He's the son of an underworld figure and a drug dealer. Johnny also likes to get tough when things don't go his way. When Jake Mazursky fails to pay up for Johnny, things get worse for the Mazursky family, as Johnny and his 'gang' kidnap Jake's 15 year old brother and holds him hostage. Problem now is what to do with 'stolen boy?'\") \n",
      "\n",
      "('Death Becomes Her', \"Madeline is married to Ernest, who was once arch-rival Helen's fiance. After recovering from a mental breakdown, Helen vows to kill Madeline and steal back Ernest. Unfortunately for everyone, the introduction of a magic potion causes things to be a great deal more complicated than a mere murder plot.\") \n",
      "\n",
      "('The Bonfire of the Vanities', 'After his mistress runs over a black teen, a Wall Street hotshot sees his life unravel in the spotlight; A down-and-out reporter breaks the story and opportunists clamber to use it to their advantage.') \n",
      "\n",
      "('What Just Happened', \"During the course of an ordinary week in Hollywood, movie producer Ben must navigate his way through shark-infested waters as he struggles to complete his latest projects. A demanding studio boss demands extensive changes to a movie starring Sean Penn, while another chief won't greenlight a project unless star Bruce Willis shaves his beard. Meanwhile, Ben tries to reconcile with his wife and maintain a relationship with his young daughter.\") \n",
      "\n",
      "(\"Look Who's Talking Too\", \"Mollie and James are together and raising a family, which now consists of an older Mikey and his baby sister, Julie. Tension between the siblings arises, and as well with Mollie and James when Mollie's brother Stuart moves in. Mikey is also learning how to use the toilet for the first time.\") \n",
      "\n",
      "(\"Look Who's Talking\", \"Mollie is a single working mother who's out to find the perfect father for her child. Her baby, Mikey, prefers James, a cab driver turned babysitter who has what it takes to make them both happy. But Mollie won't even consider James. It's going to take all the tricks a baby can think of to bring them together before it's too late.\") \n",
      "\n",
      "('The Siege', 'The secret US abduction of a suspected terrorist from his Middle East homeland leads to a wave of terrorist attacks in New York.  An FBI senior agent and his team attempt to locate and decommission the enemy cells, but must also deal with an Army General gone rogue and a female CIA agent of uncertain loyalties.') \n",
      "\n",
      "('Pulp Fiction', \"A burger-loving hit man, his philosophical partner, a drug-addled gangster's moll and a washed-up boxer converge in this sprawling, comedic crime caper. Their adventures unfurl in three stories that ingeniously trip back and forth in time.\") \n",
      "\n",
      "('Lucky Number Slevin', 'Slevin is mistakenly put in the middle of a personal war between the city’s biggest criminal bosses. Under constant watch, Slevin must try not to get killed by an infamous assassin and come up with an idea of how to get out of his current dilemma.') \n",
      "\n",
      "('Planet Terror', 'Two doctors find their graveyard shift inundated with townspeople ravaged by sores. Among the wounded is Cherry Darling, a dancer whose leg was ripped from her body. As the invalids quickly become enraged aggressors, Cherry and her ex-boyfriend El Wray lead a team of accidental warriors into the night.') \n",
      "\n",
      "('Fast Food Nation', \"A dramatised examination of the health issues and social consequences of America's love affair with fast food.\") \n",
      "\n",
      "('Shine a Light', 'Martin Scorsese and the Rolling Stones unite in \"Shine A Light,\" a look at The Rolling Stones.\" Scorsese filmed the Stones over a two-day period at the intimate Beacon Theater in New York City in fall 2006. Cinematographers capture the raw energy of the legendary band.') \n",
      "\n",
      "('Four Rooms', \"It's Ted the Bellhop's first night on the job...and the hotel's very unusual guests are about to place him in some outrageous predicaments. It seems that this evening's room service is serving up one unbelievable happening after another.\") \n",
      "\n",
      "(\"Charlie's Angels: Full Throttle\", 'The Angels are charged with finding a pair of missing rings that are encoded with the personal information of members of the Witness Protection Program. As informants are killed, the ladies target a rogue agent who might be responsible.') \n",
      "\n",
      "(\"National Lampoon's Loaded Weapon 1\", \"An LA detective is murdered because she has microfilm with the recipe to make cocaine cookies. Two cops partner to find and stop the fiends before they can dope the nation by distributing their wares via the 'Wilderness Girls' cookie drive.\") \n",
      "\n",
      "('The Astronaut Farmer', \"Texan Charles Farmer left the Air Force as a young man to save the family ranch when his dad died. Like most American ranchers, he owes his bank. Unlike most, he's an astrophysicist with a rocket in his barn - one he's built and wants to take into space. It's his dream. The FBI puts him under surveillance when he tries to buy rocket fuel, and the FAA stalls him when he files a flight plan – but Charles is undeterred.\") \n",
      "\n",
      "(\"Ocean's Twelve\", 'Danny Ocean reunites with his old flame and the rest of his merry band of thieves in carrying out three huge heists in Rome, Paris and Amsterdam – but a Europol agent is hot on their heels.') \n",
      "\n"
     ]
    }
   ],
   "source": [
    "movies = pick_by_actor(\"Bruce Willis\")\n",
    "\n",
    "print_result (movies)"
   ]
  },
  {
   "cell_type": "markdown",
   "metadata": {},
   "source": [
    "# Query #3: Recommend a Movie by Genre"
   ]
  },
  {
   "cell_type": "markdown",
   "metadata": {},
   "source": [
    "**Input:** A genre that the user likes\n",
    "\n",
    "**Output:** 10 Recommended films based on the user's input. "
   ]
  },
  {
   "cell_type": "code",
   "execution_count": 4,
   "metadata": {},
   "outputs": [
    {
     "name": "stdout",
     "output_type": "stream",
     "text": [
      "Ice Age: Dawn of the Dinosaurs \n",
      "\n",
      "Forrest Gump \n",
      "\n",
      "Kung Fu Panda \n",
      "\n",
      "Night at the Museum \n",
      "\n",
      "The Simpsons Movie \n",
      "\n",
      "Bruce Almighty \n",
      "\n",
      "Charlie and the Chocolate Factory \n",
      "\n",
      "Pretty Woman \n",
      "\n",
      "Sex and the City \n",
      "\n",
      "Happy Feet \n",
      "\n"
     ]
    }
   ],
   "source": [
    "movies = pick_by_genre(\"Comedy\")\n",
    "\n",
    "print_result (movies)"
   ]
  },
  {
   "cell_type": "markdown",
   "metadata": {},
   "source": [
    "# Query #4: Get Top Films by Year"
   ]
  },
  {
   "cell_type": "markdown",
   "metadata": {},
   "source": [
    "This functions returns a list of the most recommended films by year based on genre popularity and movie popularity"
   ]
  },
  {
   "cell_type": "code",
   "execution_count": 4,
   "metadata": {},
   "outputs": [
    {
     "name": "stdout",
     "output_type": "stream",
     "text": [
      "Title :  The Ox-Bow Incident\n",
      "Movie Rating :  7.692\n",
      "Genre :  Western\n",
      "Year's avg rating :  7.929499864578247\n",
      "Genre Rating :  6.515883722970652\n",
      "\n",
      "\n",
      "Title :  Battleship Potemkin\n",
      "Movie Rating :  7.617\n",
      "Genre :  War\n",
      "Year's avg rating :  7.46275007724762\n",
      "Genre Rating :  6.947125936437536\n",
      "\n",
      "\n",
      "Title :  Sunrise: A Song of Two Humans\n",
      "Movie Rating :  7.85\n",
      "Genre :  Romance\n",
      "Year's avg rating :  7.93420000076294\n",
      "Genre Rating :  6.464077416158491\n",
      "\n",
      "\n",
      "Title :  Casablanca\n",
      "Movie Rating :  8.167\n",
      "Genre :  Romance\n",
      "Year's avg rating :  7.929499864578247\n",
      "Genre Rating :  6.464077416158491\n",
      "\n",
      "\n",
      "Title :  The Best Years of Our Lives\n",
      "Movie Rating :  7.8\n",
      "Genre :  War\n",
      "Year's avg rating :  7.421777795862268\n",
      "Genre Rating :  6.947125936437536\n",
      "\n",
      "\n",
      "Title :  The Murderers Are Among Us\n",
      "Movie Rating :  7.061\n",
      "Genre :  War\n",
      "Year's avg rating :  7.421777795862268\n",
      "Genre Rating :  6.947125936437536\n",
      "\n",
      "\n",
      "Title :  Paisan\n",
      "Movie Rating :  7.573\n",
      "Genre :  War\n",
      "Year's avg rating :  7.421777795862268\n",
      "Genre Rating :  6.947125936437536\n",
      "\n",
      "\n",
      "Title :  The Cabinet of Dr. Caligari\n",
      "Movie Rating :  7.953\n",
      "Genre :  Drama\n",
      "Year's avg rating :  7.953000068664551\n",
      "Genre Rating :  6.353925673103045\n",
      "\n",
      "\n",
      "Title :  Sunrise: A Song of Two Humans\n",
      "Movie Rating :  7.85\n",
      "Genre :  Drama\n",
      "Year's avg rating :  7.93420000076294\n",
      "Genre Rating :  6.353925673103045\n",
      "\n",
      "\n",
      "Title :  Metropolis\n",
      "Movie Rating :  8.144\n",
      "Genre :  Drama\n",
      "Year's avg rating :  7.93420000076294\n",
      "Genre Rating :  6.353925673103045\n",
      "\n",
      "\n"
     ]
    }
   ],
   "source": [
    "movies = top_films_by_year()\n",
    "\n",
    "print_result (movies)"
   ]
  },
  {
   "cell_type": "markdown",
   "metadata": {},
   "source": [
    "#  Query #5: Recommend a Movie by Preference"
   ]
  },
  {
   "cell_type": "markdown",
   "metadata": {},
   "source": [
    "**Input:** User gives preferred: genre, movie length (short/medium/long), preferred language \n",
    "\n",
    "**Output:** 10 Recommended films based on the user's input. "
   ]
  },
  {
   "cell_type": "code",
   "execution_count": 6,
   "metadata": {},
   "outputs": [
    {
     "name": "stdout",
     "output_type": "stream",
     "text": [
      "Suddenly, Love \n",
      "\n",
      "Her Sister's Keeper \n",
      "\n",
      "12 Angry Men \n",
      "\n",
      "Rear Window \n",
      "\n",
      "The Silence of the Lambs \n",
      "\n",
      "American History X \n",
      "\n",
      "Sunset Boulevard \n",
      "\n",
      "Back to the Future \n",
      "\n",
      "Léon: The Professional \n",
      "\n",
      "Memento \n",
      "\n"
     ]
    }
   ],
   "source": [
    "movies = pick_by_criteria(\"Comedy\", \"medium\", \"English\")\n",
    "print_result (movies)"
   ]
  },
  {
   "attachments": {},
   "cell_type": "markdown",
   "metadata": {},
   "source": [
    "# Query #6: Get Mean revenue by genre\n"
   ]
  },
  {
   "cell_type": "markdown",
   "metadata": {},
   "source": [
    "Returns the mean revenue of the movies of each genre"
   ]
  },
  {
   "cell_type": "code",
   "execution_count": 2,
   "metadata": {},
   "outputs": [
    {
     "name": "stdout",
     "output_type": "stream",
     "text": [
      "Genre :  Adventure\n",
      "Mean Revenue :  142992388.7923\n",
      "\n",
      "\n",
      "Genre :  Animation\n",
      "Mean Revenue :  134079214.6289\n",
      "\n",
      "\n",
      "Genre :  Fantasy\n",
      "Mean Revenue :  122632715.1782\n",
      "\n",
      "\n",
      "Genre :  Family\n",
      "Mean Revenue :  122610470.9116\n",
      "\n",
      "\n",
      "Genre :  Action\n",
      "Mean Revenue :  111989310.9103\n",
      "\n",
      "\n",
      "Genre :  Science Fiction\n",
      "Mean Revenue :  107547743.3323\n",
      "\n",
      "\n",
      "Genre :  War\n",
      "Mean Revenue :  63155200.2000\n",
      "\n",
      "\n",
      "Genre :  Thriller\n",
      "Mean Revenue :  57817409.0000\n",
      "\n",
      "\n",
      "Genre :  Romance\n",
      "Mean Revenue :  51011396.6468\n",
      "\n",
      "\n",
      "Genre :  History\n",
      "Mean Revenue :  43766921.4754\n",
      "\n",
      "\n",
      "Genre :  Mystery\n",
      "Mean Revenue :  41717629.1413\n",
      "\n",
      "\n",
      "Genre :  Comedy\n",
      "Mean Revenue :  41661539.1895\n",
      "\n",
      "\n",
      "Genre :  Crime\n",
      "Mean Revenue :  40474420.2170\n",
      "\n",
      "\n",
      "Genre :  Drama\n",
      "Mean Revenue :  36268036.2175\n",
      "\n",
      "\n",
      "Genre :  Music\n",
      "Mean Revenue :  32356015.4433\n",
      "\n",
      "\n",
      "Genre :  Western\n",
      "Mean Revenue :  29360554.3140\n",
      "\n",
      "\n",
      "Genre :  Horror\n",
      "Mean Revenue :  28240786.5032\n",
      "\n",
      "\n",
      "Genre :  Documentary\n",
      "Mean Revenue :  4458618.6370\n",
      "\n",
      "\n",
      "Genre :  TV Movie\n",
      "Mean Revenue :  0.0000\n",
      "\n",
      "\n"
     ]
    }
   ],
   "source": [
    "results = mean_rev_by_genre()\n",
    "print_result (results)"
   ]
  },
  {
   "attachments": {},
   "cell_type": "markdown",
   "metadata": {},
   "source": [
    "# Query #7: Top characters by actor"
   ]
  },
  {
   "cell_type": "markdown",
   "metadata": {},
   "source": [
    "**Input:** User provides an actor's name\n",
    "\n",
    "\n",
    "**Output:** The actor's characters from the most liked films"
   ]
  },
  {
   "cell_type": "code",
   "execution_count": 3,
   "metadata": {},
   "outputs": [
    {
     "name": "stdout",
     "output_type": "stream",
     "text": [
      "Name :  Paul Edgecomb\n",
      "Movie Title :  The Green Mile\n",
      "\n",
      "\n",
      "Name :  Forrest Gump\n",
      "Movie Title :  Forrest Gump\n",
      "\n",
      "\n",
      "Name :  Captain John H. Miller\n",
      "Movie Title :  Saving Private Ryan\n",
      "\n",
      "\n",
      "Name :  Dr. Howard Mierzwiak\n",
      "Movie Title :  Eternal Sunshine of the Spotless Mind\n",
      "\n",
      "\n",
      "Name :  Carl Hanratty\n",
      "Movie Title :  Catch Me If You Can\n",
      "\n",
      "\n"
     ]
    }
   ],
   "source": [
    "results = top_characters_by_actor(\"Tom Hanks\")\n",
    "print_result(results)"
   ]
  },
  {
   "attachments": {},
   "cell_type": "markdown",
   "metadata": {},
   "source": [
    "# Query #8: Top rated movies by language"
   ]
  },
  {
   "cell_type": "markdown",
   "metadata": {},
   "source": [
    "**Input:** a language\n",
    "\n",
    "\n",
    "**Output:** the 5 most popular movies of this langauge (in terms of rating)"
   ]
  },
  {
   "cell_type": "code",
   "execution_count": null,
   "metadata": {},
   "outputs": [],
   "source": [
    "results = top_by_language(\"French\")\n",
    "print_result(results)"
   ]
  }
 ],
 "metadata": {
  "kernelspec": {
   "display_name": "Python 3",
   "language": "python",
   "name": "python3"
  },
  "language_info": {
   "codemirror_mode": {
    "name": "ipython",
    "version": 3
   },
   "file_extension": ".py",
   "mimetype": "text/x-python",
   "name": "python",
   "nbconvert_exporter": "python",
   "pygments_lexer": "ipython3",
   "version": "3.8.5"
  }
 },
 "nbformat": 4,
 "nbformat_minor": 4
}
